{
 "cells": [
  {
   "cell_type": "code",
   "execution_count": null,
   "id": "51117426-1cb4-44a9-9428-aad645a991df",
   "metadata": {},
   "outputs": [],
   "source": []
  },
  {
   "cell_type": "code",
   "execution_count": 2,
   "id": "38043519-19c0-44bd-b955-d49d0c21c5d7",
   "metadata": {},
   "outputs": [
    {
     "name": "stdout",
     "output_type": "stream",
     "text": [
      "Collecting opencv-python\n",
      "  Downloading opencv_python-4.9.0.80-cp37-abi3-macosx_11_0_arm64.whl.metadata (20 kB)\n",
      "Collecting numpy>=1.21.2 (from opencv-python)\n",
      "  Downloading numpy-1.26.4-cp312-cp312-macosx_11_0_arm64.whl.metadata (61 kB)\n",
      "\u001b[2K     \u001b[90m━━━━━━━━━━━━━━━━━━━━━━━━━━━━━━━━━━━━━━━━\u001b[0m \u001b[32m61.1/61.1 kB\u001b[0m \u001b[31m1.3 MB/s\u001b[0m eta \u001b[36m0:00:00\u001b[0ma \u001b[36m0:00:01\u001b[0m\n",
      "\u001b[?25hUsing cached opencv_python-4.9.0.80-cp37-abi3-macosx_11_0_arm64.whl (35.4 MB)\n",
      "Downloading numpy-1.26.4-cp312-cp312-macosx_11_0_arm64.whl (13.7 MB)\n",
      "\u001b[2K   \u001b[90m━━━━━━━━━━━━━━━━━━━━━━━━━━━━━━━━━━━━━━━━\u001b[0m \u001b[32m13.7/13.7 MB\u001b[0m \u001b[31m7.5 MB/s\u001b[0m eta \u001b[36m0:00:00\u001b[0m00:01\u001b[0m00:01\u001b[0m\n",
      "\u001b[?25hInstalling collected packages: numpy, opencv-python\n",
      "Successfully installed numpy-1.26.4 opencv-python-4.9.0.80\n"
     ]
    }
   ],
   "source": [
    "!pip install opencv-python"
   ]
  },
  {
   "cell_type": "code",
   "execution_count": 5,
   "id": "003bc982-c138-4805-ad8a-d754aa7bffb2",
   "metadata": {},
   "outputs": [],
   "source": [
    "import cv2\n",
    "import numpy as np\n"
   ]
  },
  {
   "cell_type": "markdown",
   "id": "989d04c2-f7f2-48d3-9b33-c0fde4d3acaf",
   "metadata": {},
   "source": [
    "### Using Haar Cascade Classifier"
   ]
  },
  {
   "cell_type": "code",
   "execution_count": null,
   "id": "791ff6ce-ca74-44f8-ac86-f6923d622683",
   "metadata": {},
   "outputs": [],
   "source": [
    "cascade_path = cv2.data.haarcascades + 'haarcascade_frontalface_default.xml'\n",
    "face = cv2.CascadeClassifier(cascade_path)\n",
    "\n",
    "\n",
    "video=cv2.VideoCapture(0)\n",
    "face_count=0\n",
    "while True:\n",
    "    # Read a frame from the camera\n",
    "    ret, frame = video.read()\n",
    "\n",
    "    # Convert the frame to grayscale for face detection\n",
    "    gray = cv2.cvtColor(frame, cv2.COLOR_BGR2GRAY)\n",
    "\n",
    "    # Detect faces in the frame\n",
    "    faces = face.detectMultiScale(gray, scaleFactor=1.1, minNeighbors=6, minSize=(30, 30))\n",
    "\n",
    "    # Draw rectangles around the detected faces\n",
    "    for (x, y, w, h) in faces:\n",
    "        cv2.rectangle(frame, (x, y), (x+w, y+h), (255, 0, 0), 2)\n",
    "        face_image = frame[y:y+h, x:x+w]\n",
    "        \n",
    "    if cv2.waitKey(1) & 0xFF == ord('s'):\n",
    "        cv2.imwrite('/spacefinder/face_{face_count}.png', face_image)\n",
    "        face_count += 1\n",
    "\n",
    "    # Display the result\n",
    "    cv2.imshow('Face Detection', frame)\n",
    "\n",
    "    # Break the loop if the 'q' key is pressed\n",
    "    if cv2.waitKey(1) & 0xFF == ord('q'):\n",
    "        break\n",
    "        \n",
    "   \n",
    "        \n",
    "\n",
    "    cv2.imshow('Face Detection', frame)\n",
    "\n",
    "\n",
    "\n",
    "# Release the camera and close the OpenCV window\n",
    "video.release()\n",
    "cv2.destroyAllWindows()"
   ]
  },
  {
   "cell_type": "markdown",
   "id": "5607e16b-3a47-4cf8-bcfb-e6a56423eba9",
   "metadata": {},
   "source": [
    "### Using Deep Neural Network (DNN)"
   ]
  },
  {
   "cell_type": "code",
   "execution_count": null,
   "id": "0406b06f-00dc-4b63-b969-ac9092e14145",
   "metadata": {},
   "outputs": [],
   "source": [
    "\n",
    "# Load the pre-trained face detection model from OpenCV's DNN module\n",
    "net = cv2.dnn.readNetFromCaffe('deploy.prototxt', 'res10_300x300_ssd_iter_140000.caffemodel')\n",
    "face_count1=0\n",
    "\n",
    "# Open the default camera (Camera 0)\n",
    "video = cv2.VideoCapture(0)\n",
    "\n",
    "while True:\n",
    "    # Read a frame from the camera\n",
    "    ret, frame = video.read()\n",
    "\n",
    "    # Resize the frame to have a width of 300 pixels (required by the model)\n",
    "    blob = cv2.dnn.blobFromImage(frame, 1.0, (300, 300), (104.0, 177.0, 123.0))\n",
    "\n",
    "    # Set the input to the neural network\n",
    "    net.setInput(blob)\n",
    "\n",
    "    # Perform inference and get face detections\n",
    "    detections = net.forward()\n",
    "\n",
    "    # Loop over the detections and draw rectangles around the detected faces\n",
    "    for i in range(detections.shape[2]):\n",
    "        confidence = detections[0, 0, i, 2]\n",
    "        if confidence > 0.5:  # Adjust confidence threshold as needed\n",
    "            box = detections[0, 0, i, 3:7] * np.array([frame.shape[1], frame.shape[0], frame.shape[1], frame.shape[0]])\n",
    "            (startX, startY, endX, endY) = box.astype(\"int\")\n",
    "            cv2.rectangle(frame, (startX, startY), (endX, endY), (0, 255, 0), 2)\n",
    "            \n",
    "    if cv2.waitKey(1) & 0xFF ==ord('x'):\n",
    "        face_image = frame[y:y+h, x:x+w]\n",
    "        cv2.imwrite(f'face{face_count1}.png', face_image)\n",
    "        face_count1 += 1\n",
    "\n",
    "    # Display the result\n",
    "    cv2.imshow('Face Detection', frame)\n",
    "\n",
    "    # Break the loop if the 'q' key is pressed\n",
    "    if cv2.waitKey(1) & 0xFF == ord('q'):\n",
    "        break\n",
    "\n",
    "# Release the video capture object and close the window\n",
    "video.release()\n",
    "cv2.destroyAllWindows()\n"
   ]
  }
 ],
 "metadata": {
  "kernelspec": {
   "display_name": "Python 3 (ipykernel)",
   "language": "python",
   "name": "python3"
  },
  "language_info": {
   "codemirror_mode": {
    "name": "ipython",
    "version": 3
   },
   "file_extension": ".py",
   "mimetype": "text/x-python",
   "name": "python",
   "nbconvert_exporter": "python",
   "pygments_lexer": "ipython3",
   "version": "3.12.2"
  }
 },
 "nbformat": 4,
 "nbformat_minor": 5
}
